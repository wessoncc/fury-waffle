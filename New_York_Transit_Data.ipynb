{
 "cells": [
  {
   "cell_type": "code",
   "execution_count": 1,
   "metadata": {},
   "outputs": [],
   "source": [
    "import pandas as pd\n",
    "import numpy as np\n",
    "from matplotlib import pyplot as plt"
   ]
  },
  {
   "cell_type": "code",
   "execution_count": 2,
   "metadata": {},
   "outputs": [],
   "source": [
    "mtasubwayfile = \"../New-York-Transportation/Raw Data/MTA_Subway.csv\"\n",
    "sub_data = pd.read_csv(mtasubwayfile)\n",
    "sub_data = sub_data[84:111]\n",
    "#sub_data"
   ]
  },
  {
   "cell_type": "code",
   "execution_count": 3,
   "metadata": {},
   "outputs": [],
   "source": [
    "mtabusfile = \"../New-York-Transportation/Raw Data/MTA_Bus 08-Apr_17.csv\"\n",
    "bus_data = pd.read_csv(mtabusfile)\n",
    "bus_data = bus_data[:28]\n",
    "#bus_data"
   ]
  },
  {
   "cell_type": "code",
   "execution_count": 4,
   "metadata": {},
   "outputs": [],
   "source": [
    "mtatollfile = \"../New-York-Transportation/Raw Data/MTA_Toll.csv\"\n",
    "toll_data = pd.read_csv(mtatollfile)\n",
    "toll_data = toll_data[84:111]\n",
    "#toll_data"
   ]
  },
  {
   "cell_type": "code",
   "execution_count": 5,
   "metadata": {},
   "outputs": [],
   "source": [
    "mtacommfile_north = \"../New-York-Transportation/Raw Data/MTA_Coummuter_Train_North.csv\"\n",
    "comm_north_data = pd.read_csv(mtacommfile_north)\n",
    "comm_north_data = comm_north_data[84:112]\n",
    "#comm_north_data"
   ]
  },
  {
   "cell_type": "code",
   "execution_count": 6,
   "metadata": {},
   "outputs": [],
   "source": [
    "mtacommfile_long = \"../New-York-Transportation/Raw Data/MTA_Commuter_Train_Long_Island.csv\"\n",
    "comm_long_data = pd.read_csv(mtacommfile_long)\n",
    "comm_long_data = comm_long_data[84:112]\n",
    "#comm_long_data"
   ]
  },
  {
   "cell_type": "code",
   "execution_count": 7,
   "metadata": {},
   "outputs": [],
   "source": [
    "proj_data = sub_data\n",
    "proj_data = proj_data.append(bus_data).append(toll_data).append(comm_north_data).append(comm_long_data)\n",
    "#proj_data"
   ]
  },
  {
   "cell_type": "code",
   "execution_count": 8,
   "metadata": {},
   "outputs": [],
   "source": [
    "proj_data = proj_data.reset_index(drop=True)\n",
    "#proj_data"
   ]
  },
  {
   "cell_type": "code",
   "execution_count": 14,
   "metadata": {},
   "outputs": [],
   "source": [
    "proj_data_all = proj_data.drop(['PARENT_SEQ', 'INDICATOR_SEQ','DESCRIPTION', \n",
    "                            'INDICATOR_UNIT', 'DESIRED_CHANGE', 'DECIMAL_PLACES',\n",
    "                            'FREQUENCY', 'YTD_TARGET', 'MONTHLY_TARGET', 'CATEGORY',\n",
    "                            'INDICATOR_NAME'], axis=1)\n",
    "#proj_data_all"
   ]
  },
  {
   "cell_type": "code",
   "execution_count": 10,
   "metadata": {},
   "outputs": [
    {
     "data": {
      "text/html": [
       "<div>\n",
       "<style scoped>\n",
       "    .dataframe tbody tr th:only-of-type {\n",
       "        vertical-align: middle;\n",
       "    }\n",
       "\n",
       "    .dataframe tbody tr th {\n",
       "        vertical-align: top;\n",
       "    }\n",
       "\n",
       "    .dataframe thead th {\n",
       "        text-align: right;\n",
       "    }\n",
       "</style>\n",
       "<table border=\"1\" class=\"dataframe\">\n",
       "  <thead>\n",
       "    <tr style=\"text-align: right;\">\n",
       "      <th></th>\n",
       "      <th>PERIOD_YEAR</th>\n",
       "      <th>YTD_ACTUAL</th>\n",
       "      <th>MONTHLY_ACTUAL</th>\n",
       "    </tr>\n",
       "  </thead>\n",
       "  <tbody>\n",
       "    <tr>\n",
       "      <th>0</th>\n",
       "      <td>2015.0</td>\n",
       "      <td>1.508270e+10</td>\n",
       "      <td>2.358899e+09</td>\n",
       "    </tr>\n",
       "    <tr>\n",
       "      <th>1</th>\n",
       "      <td>2016.0</td>\n",
       "      <td>1.524631e+10</td>\n",
       "      <td>2.365547e+09</td>\n",
       "    </tr>\n",
       "    <tr>\n",
       "      <th>2</th>\n",
       "      <td>2017.0</td>\n",
       "      <td>1.151823e+09</td>\n",
       "      <td>5.731450e+08</td>\n",
       "    </tr>\n",
       "  </tbody>\n",
       "</table>\n",
       "</div>"
      ],
      "text/plain": [
       "   PERIOD_YEAR    YTD_ACTUAL  MONTHLY_ACTUAL\n",
       "0       2015.0  1.508270e+10    2.358899e+09\n",
       "1       2016.0  1.524631e+10    2.365547e+09\n",
       "2       2017.0  1.151823e+09    5.731450e+08"
      ]
     },
     "execution_count": 10,
     "metadata": {},
     "output_type": "execute_result"
    }
   ],
   "source": [
    "yearly_transit_data = proj_data_all.groupby(proj_data_all['PERIOD_YEAR']).sum().drop(['PERIOD_MONTH'], axis=1)\n",
    "yearly_transit_data = yearly_transit_data.reset_index(drop=False)\n",
    "yearly_transit_data"
   ]
  },
  {
   "cell_type": "code",
   "execution_count": 11,
   "metadata": {},
   "outputs": [
    {
     "data": {
      "text/html": [
       "<div>\n",
       "<style scoped>\n",
       "    .dataframe tbody tr th:only-of-type {\n",
       "        vertical-align: middle;\n",
       "    }\n",
       "\n",
       "    .dataframe tbody tr th {\n",
       "        vertical-align: top;\n",
       "    }\n",
       "\n",
       "    .dataframe thead th {\n",
       "        text-align: right;\n",
       "    }\n",
       "</style>\n",
       "<table border=\"1\" class=\"dataframe\">\n",
       "  <thead>\n",
       "    <tr style=\"text-align: right;\">\n",
       "      <th></th>\n",
       "      <th>AGENCY_NAME</th>\n",
       "      <th>PERIOD_YEAR</th>\n",
       "      <th>PERIOD_MONTH</th>\n",
       "      <th>YTD_ACTUAL</th>\n",
       "      <th>MONTHLY_ACTUAL</th>\n",
       "    </tr>\n",
       "  </thead>\n",
       "  <tbody>\n",
       "    <tr>\n",
       "      <th>12</th>\n",
       "      <td>NYC Transit</td>\n",
       "      <td>2016.0</td>\n",
       "      <td>1.0</td>\n",
       "      <td>136398047.0</td>\n",
       "      <td>136398047.0</td>\n",
       "    </tr>\n",
       "    <tr>\n",
       "      <th>13</th>\n",
       "      <td>NYC Transit</td>\n",
       "      <td>2016.0</td>\n",
       "      <td>2.0</td>\n",
       "      <td>273062297.0</td>\n",
       "      <td>136664250.0</td>\n",
       "    </tr>\n",
       "    <tr>\n",
       "      <th>14</th>\n",
       "      <td>NYC Transit</td>\n",
       "      <td>2016.0</td>\n",
       "      <td>3.0</td>\n",
       "      <td>429363496.0</td>\n",
       "      <td>156301199.0</td>\n",
       "    </tr>\n",
       "    <tr>\n",
       "      <th>15</th>\n",
       "      <td>NYC Transit</td>\n",
       "      <td>2016.0</td>\n",
       "      <td>4.0</td>\n",
       "      <td>576613110.0</td>\n",
       "      <td>147249614.0</td>\n",
       "    </tr>\n",
       "    <tr>\n",
       "      <th>16</th>\n",
       "      <td>NYC Transit</td>\n",
       "      <td>2016.0</td>\n",
       "      <td>5.0</td>\n",
       "      <td>728533129.0</td>\n",
       "      <td>151920019.0</td>\n",
       "    </tr>\n",
       "  </tbody>\n",
       "</table>\n",
       "</div>"
      ],
      "text/plain": [
       "    AGENCY_NAME  PERIOD_YEAR  PERIOD_MONTH   YTD_ACTUAL  MONTHLY_ACTUAL\n",
       "12  NYC Transit       2016.0           1.0  136398047.0     136398047.0\n",
       "13  NYC Transit       2016.0           2.0  273062297.0     136664250.0\n",
       "14  NYC Transit       2016.0           3.0  429363496.0     156301199.0\n",
       "15  NYC Transit       2016.0           4.0  576613110.0     147249614.0\n",
       "16  NYC Transit       2016.0           5.0  728533129.0     151920019.0"
      ]
     },
     "execution_count": 11,
     "metadata": {},
     "output_type": "execute_result"
    }
   ],
   "source": [
    "data_16 = proj_data_all[proj_data_all['PERIOD_YEAR']==2016]\n",
    "data_16.head(5)"
   ]
  },
  {
   "cell_type": "code",
   "execution_count": 12,
   "metadata": {},
   "outputs": [],
   "source": [
    "month = ['Jan', 'Feb', 'Mar', 'Apr', 'May', 'Jun', 'Jul', 'Aug', 'Sep', 'Oct', 'Nov', 'Dec']\n",
    "people = data_16['MONTHLY_ACTUAL']\n",
    "people_sub = people[data_16['AGENCY_NAME']=='NYC Transit']\n",
    "people_bus = people[data_16['AGENCY_NAME']=='MTA Bus']\n",
    "people_long = people[data_16['AGENCY_NAME']=='Long Island Rail Road']\n",
    "people_north = people[data_16['AGENCY_NAME']=='Metro-North Railroad']\n",
    "people_toll = people[data_16['AGENCY_NAME']=='Bridges and Tunnels']"
   ]
  },
  {
   "cell_type": "code",
   "execution_count": 13,
   "metadata": {},
   "outputs": [
    {
     "data": {
      "text/plain": [
       "<matplotlib.legend.Legend at 0x10df9f128>"
      ]
     },
     "execution_count": 13,
     "metadata": {},
     "output_type": "execute_result"
    },
    {
     "data": {
      "image/png": "[encoded data removed]",
      "text/plain": [
       "<Figure size 432x288 with 1 Axes>"
      ]
     },
     "metadata": {},
     "output_type": "display_data"
    }
   ],
   "source": [
    "#fig1, ax1 = plt.subplots()\n",
    "plt.plot(month, people_sub); plt.plot(month, people_bus); plt.plot(month, people_long)\n",
    "plt.plot(month, people_north)\n",
    "plt.plot(month, people_toll)\n",
    "plt.legend(['Subway', 'MTA Bus', 'Long Island Rail Road', 'Metro-North Railroad', 'Bridges and Tunnels'])\n"
   ]
  },
  {
   "cell_type": "code",
   "execution_count": null,
   "metadata": {},
   "outputs": [],
   "source": []
  },
  {
   "cell_type": "code",
   "execution_count": null,
   "metadata": {},
   "outputs": [],
   "source": []
  }
 ],
 "metadata": {
  "kernelspec": {
   "display_name": "Python 3",
   "language": "python",
   "name": "python3"
  },
  "language_info": {
   "codemirror_mode": {
    "name": "ipython",
    "version": 3
   },
   "file_extension": ".py",
   "mimetype": "text/x-python",
   "name": "python",
   "nbconvert_exporter": "python",
   "pygments_lexer": "ipython3",
   "version": "3.6.5"
  }
 },
 "nbformat": 4,
 "nbformat_minor": 2
}
